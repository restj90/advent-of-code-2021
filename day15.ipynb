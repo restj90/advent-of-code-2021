{
 "cells": [
  {
   "cell_type": "code",
   "execution_count": 55,
   "metadata": {},
   "outputs": [],
   "source": [
    "from utils import save_data_file, read_lines, submit_answer\n",
    "\n",
    "# boilerplate get data\n",
    "day, year = 15, 2021\n",
    "part_a, part_b = \"a\", \"b\"\n",
    "file = save_data_file(day, year)\n",
    "data = read_lines(file)"
   ]
  },
  {
   "cell_type": "code",
   "execution_count": 56,
   "metadata": {},
   "outputs": [],
   "source": [
    "# solution imports\n",
    "from typing import Dict, Set, Tuple\n",
    "import sys\n",
    "import heapq"
   ]
  },
  {
   "cell_type": "code",
   "execution_count": 57,
   "metadata": {},
   "outputs": [],
   "source": [
    "def lines_to_matrix(data):\n",
    "    matrix = [list(map(int, row)) for row in data]\n",
    "    return matrix"
   ]
  },
  {
   "cell_type": "code",
   "execution_count": 58,
   "metadata": {},
   "outputs": [],
   "source": [
    "# part 2, cave expands\n",
    "def expand_matrix(matrix):\n",
    "    for row in matrix:\n",
    "        length = len(row)\n",
    "        for _ in range(4):\n",
    "            for c in row[length * _:]:\n",
    "                next_value = (c + 1) % 10\n",
    "                if not next_value:\n",
    "                    next_value = 1\n",
    "                row.append(next_value)\n",
    "\n",
    "    length = len(matrix)\n",
    "    for _ in range(4):\n",
    "        for row in matrix[length * _:]:\n",
    "            next_row = []\n",
    "            for c in row:\n",
    "                next_value = (c + 1) % 10\n",
    "                if not next_value:\n",
    "                    next_value = 1\n",
    "                next_row.append(next_value)\n",
    "            matrix.append(next_row)\n",
    "    return matrix"
   ]
  },
  {
   "cell_type": "code",
   "execution_count": 59,
   "metadata": {},
   "outputs": [],
   "source": [
    "# bane of every programmer's life\n",
    "def dijkstra(matrix):\n",
    "\tedges: Dict[Tuple[int, int], Set[Tuple[int, int]]] = {}\n",
    "\trisks = {}\n",
    "\tfor r, row in enumerate(matrix):\n",
    "\t\tfor c, col in enumerate(row):\n",
    "\t\t\trisks[(r, c)] = col\n",
    "\t\t\tif (r, c) not in edges:\n",
    "\t\t\t\tedges[(r, c)] = set()\n",
    "\t\t\tfor xx, yy in [[0, 1], [0, -1], [1, 0], [-1, 0]]:\n",
    "\t\t\t\tnext_row, next_col = r + xx, c + yy\n",
    "\t\t\t\tif next_row < 0 or next_col < 0 or next_row >= len(matrix) or next_col >= len(matrix[0]):\n",
    "\t\t\t\t\tcontinue\n",
    "\t\t\t\tedges[(r, c)].add((next_row, next_col))\n",
    "\n",
    "\tcur = (0, 0)\n",
    "\tdist = {node: sys.maxsize for node in edges}\n",
    "\tdist[cur] = 0\n",
    "\tpath = (len(matrix) - 1, len(matrix[0]) - 1)\n",
    "\n",
    "\tqueue = [(0, cur)]\n",
    "\twhile queue:\n",
    "\t\tdistance, cur = heapq.heappop(queue)\n",
    "\t\tfor neighbor in edges[cur]:\n",
    "\t\t\tnew_distance = distance + risks[neighbor]\n",
    "\t\t\tif new_distance < dist[neighbor]:\n",
    "\t\t\t\tdist[neighbor] = new_distance\n",
    "\t\t\t\theapq.heappush(queue, (new_distance, neighbor))\n",
    "\t\tif dist[path] != sys.maxsize:\n",
    "\t\t\treturn dist[path]\n",
    "\n",
    "\treturn dist[path]"
   ]
  },
  {
   "cell_type": "code",
   "execution_count": 60,
   "metadata": {},
   "outputs": [
    {
     "name": "stdout",
     "output_type": "stream",
     "text": [
      "741\n"
     ]
    }
   ],
   "source": [
    "# part a\n",
    "matrix = lines_to_matrix(data)\n",
    "answer = dijkstra(matrix)\n",
    "print(answer)\n",
    "#submit_answer(answer, part_a, day, year)"
   ]
  },
  {
   "cell_type": "code",
   "execution_count": 61,
   "metadata": {},
   "outputs": [
    {
     "name": "stdout",
     "output_type": "stream",
     "text": [
      "2976\n"
     ]
    }
   ],
   "source": [
    "# part b\n",
    "expanded_matrix = expand_matrix(matrix)\n",
    "answer = dijkstra(expanded_matrix)\n",
    "print(answer)\n",
    "#submit_answer(answer, part_b, day, year)"
   ]
  }
 ],
 "metadata": {
  "interpreter": {
   "hash": "a065e06145304b9d57c779f273fd7b7001890dbf80757d56c4ce00fe5b76c373"
  },
  "kernelspec": {
   "display_name": "Python 3.10.0 64-bit ('aoc2021': conda)",
   "language": "python",
   "name": "python3"
  },
  "language_info": {
   "codemirror_mode": {
    "name": "ipython",
    "version": 3
   },
   "file_extension": ".py",
   "mimetype": "text/x-python",
   "name": "python",
   "nbconvert_exporter": "python",
   "pygments_lexer": "ipython3",
   "version": "3.9.7"
  },
  "orig_nbformat": 4
 },
 "nbformat": 4,
 "nbformat_minor": 2
}
