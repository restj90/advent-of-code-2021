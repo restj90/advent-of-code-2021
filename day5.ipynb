{
 "cells": [
  {
   "cell_type": "code",
   "execution_count": 12,
   "metadata": {},
   "outputs": [],
   "source": [
    "from utils import save_data_file, read_lines, submit_answer\n",
    "\n",
    "# boilerplate get data\n",
    "day, year = 5, 2021\n",
    "part_a, part_b = \"a\", \"b\"\n",
    "file = save_data_file(day, year)\n",
    "data = read_lines(file)"
   ]
  },
  {
   "cell_type": "code",
   "execution_count": 13,
   "metadata": {},
   "outputs": [],
   "source": [
    "# solution imports\n",
    "from collections import defaultdict\n",
    "import re\n",
    "\n",
    "lineRegex = r'(\\d+),(\\d+) -> (\\d+),(\\d+)'"
   ]
  },
  {
   "cell_type": "code",
   "execution_count": 14,
   "metadata": {},
   "outputs": [],
   "source": [
    "def get_line(line):\n",
    "    coords = re.match(lineRegex, line).groups()\n",
    "    return tuple(map(int, coords))"
   ]
  },
  {
   "cell_type": "code",
   "execution_count": 15,
   "metadata": {},
   "outputs": [],
   "source": [
    "def get_intersection(line):\n",
    "    x1, y1, x2, y2 = line\n",
    "    dx = 0 if x1 == x2 else 1 if x2 > x1 else -1\n",
    "    dy = 0 if y1 == y2 else 1 if y2 > y1 else -1\n",
    "    return (dx, dy)"
   ]
  },
  {
   "cell_type": "code",
   "execution_count": 16,
   "metadata": {},
   "outputs": [],
   "source": [
    "def is_straight(line):\n",
    "    x1, y1, x2, y2 = line\n",
    "    return x1 == x2 or y1 == y2"
   ]
  },
  {
   "cell_type": "code",
   "execution_count": 17,
   "metadata": {},
   "outputs": [],
   "source": [
    "def get_line_points(line):\n",
    "    x1, y1, x2, y2 = line\n",
    "    x, y = x1, y1\n",
    "    dx, dy = get_intersection(line)\n",
    "    points = [(x, y)]\n",
    "    while not (x == x2 and y == y2):\n",
    "        x += dx\n",
    "        y += dy\n",
    "        points.append((x, y))\n",
    "    return points"
   ]
  },
  {
   "cell_type": "code",
   "execution_count": 18,
   "metadata": {},
   "outputs": [],
   "source": [
    "def calculate_line_overlap(lines):\n",
    "    counts = defaultdict(int)\n",
    "    for line in lines:\n",
    "        for point in get_line_points(line):\n",
    "            counts[point] += 1\n",
    "    return len(list(filter(lambda c: c > 1, counts.values())))\n",
    "    "
   ]
  },
  {
   "cell_type": "code",
   "execution_count": 19,
   "metadata": {},
   "outputs": [],
   "source": [
    "allLines = list(map(get_line, data)) \n",
    "lines = list(filter(is_straight, allLines))"
   ]
  },
  {
   "cell_type": "code",
   "execution_count": 20,
   "metadata": {},
   "outputs": [
    {
     "name": "stdout",
     "output_type": "stream",
     "text": [
      "5774\n"
     ]
    }
   ],
   "source": [
    "# part a\n",
    "answer = calculate_line_overlap(lines)\n",
    "print(answer)\n",
    "#submit_answer(answer, part_a, day, year)"
   ]
  },
  {
   "cell_type": "code",
   "execution_count": 21,
   "metadata": {},
   "outputs": [
    {
     "name": "stdout",
     "output_type": "stream",
     "text": [
      "18423\n"
     ]
    }
   ],
   "source": [
    "# part b\n",
    "answer = calculate_line_overlap(allLines)\n",
    "print(answer)\n",
    "#submit_answer(answer, part_b, day, year)"
   ]
  }
 ],
 "metadata": {
  "interpreter": {
   "hash": "a065e06145304b9d57c779f273fd7b7001890dbf80757d56c4ce00fe5b76c373"
  },
  "kernelspec": {
   "display_name": "Python 3.10.0 64-bit ('aoc2021': conda)",
   "language": "python",
   "name": "python3"
  },
  "language_info": {
   "codemirror_mode": {
    "name": "ipython",
    "version": 3
   },
   "file_extension": ".py",
   "mimetype": "text/x-python",
   "name": "python",
   "nbconvert_exporter": "python",
   "pygments_lexer": "ipython3",
   "version": "3.9.7"
  },
  "orig_nbformat": 4
 },
 "nbformat": 4,
 "nbformat_minor": 2
}
