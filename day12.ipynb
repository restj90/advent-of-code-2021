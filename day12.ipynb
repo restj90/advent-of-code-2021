{
 "cells": [
  {
   "cell_type": "code",
   "execution_count": 24,
   "metadata": {},
   "outputs": [],
   "source": [
    "from utils import save_data_file, read_lines, submit_answer\n",
    "\n",
    "# boilerplate get data\n",
    "day, year = 12, 2021\n",
    "part_a, part_b = \"a\", \"b\"\n",
    "file = save_data_file(day, year)\n",
    "data = read_lines(file)"
   ]
  },
  {
   "cell_type": "code",
   "execution_count": 25,
   "metadata": {},
   "outputs": [],
   "source": [
    "# solution imports\n",
    "from collections import defaultdict"
   ]
  },
  {
   "cell_type": "code",
   "execution_count": 26,
   "metadata": {},
   "outputs": [],
   "source": [
    "# depth first search approach\n",
    "# keep track of cave's adjacent neighbours\n",
    "# keep track of revisited cave for pt 2\n",
    "paths = defaultdict(list)\n",
    "for a,b in [line.split('-') for line in data]:\n",
    "    paths[a].append(b)\n",
    "    paths[b].append(a)\n",
    "\n",
    "def dfs(cave, visited, revisited):\n",
    "    if (cave == \"end\"): \n",
    "        return 1\n",
    "    if (cave.islower()): \n",
    "        visited.add(cave)\n",
    "    total = sum([dfs(i, visited, revisited) for i in paths[cave] if not i in visited])\n",
    "    total += sum([dfs(i, visited, i) for i in paths[cave] if i in visited and i != 'start']) if revisited == None else 0\n",
    "    if (cave != revisited): \n",
    "        visited.discard(cave)\n",
    "    return total"
   ]
  },
  {
   "cell_type": "code",
   "execution_count": 27,
   "metadata": {},
   "outputs": [
    {
     "name": "stdout",
     "output_type": "stream",
     "text": [
      "3563\n"
     ]
    }
   ],
   "source": [
    "# part a\n",
    "answer = dfs(\"start\", set(), False)\n",
    "print(answer)\n",
    "#submit_answer(answer, part_a, day, year)"
   ]
  },
  {
   "cell_type": "code",
   "execution_count": 28,
   "metadata": {},
   "outputs": [
    {
     "name": "stdout",
     "output_type": "stream",
     "text": [
      "105453\n"
     ]
    }
   ],
   "source": [
    "# part b\n",
    "answer = dfs(\"start\", set(), None)\n",
    "print(answer)\n",
    "#submit_answer(answer, part_b, day, year)"
   ]
  }
 ],
 "metadata": {
  "interpreter": {
   "hash": "a065e06145304b9d57c779f273fd7b7001890dbf80757d56c4ce00fe5b76c373"
  },
  "kernelspec": {
   "display_name": "Python 3.10.0 64-bit ('aoc2021': conda)",
   "language": "python",
   "name": "python3"
  },
  "language_info": {
   "codemirror_mode": {
    "name": "ipython",
    "version": 3
   },
   "file_extension": ".py",
   "mimetype": "text/x-python",
   "name": "python",
   "nbconvert_exporter": "python",
   "pygments_lexer": "ipython3",
   "version": "3.9.7"
  },
  "orig_nbformat": 4
 },
 "nbformat": 4,
 "nbformat_minor": 2
}
