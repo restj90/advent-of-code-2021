{
 "cells": [
  {
   "cell_type": "code",
   "execution_count": 5,
   "metadata": {},
   "outputs": [],
   "source": [
    "# save data file so we can have it in repo and show answer vs puzzle\n",
    "# delete contents of /inputs directory in order to get answers for your own session\n",
    "from utils import save_data_file\n",
    "from utils import read_lines, submit_answer\n",
    "\n",
    "day = 3\n",
    "year = 2021\n",
    "part_a = \"a\"\n",
    "part_b = \"b\"\n",
    "file = save_data_file(day, year)\n",
    "lines = read_lines(file)"
   ]
  },
  {
   "cell_type": "code",
   "execution_count": 6,
   "metadata": {},
   "outputs": [],
   "source": [
    "def calculate_power_consumption(data):\n",
    "    gamma_rate = \"\"\n",
    "    epsilon_rate = \"\"\n",
    "    for n in range(len(data[0])):\n",
    "        col = [row[n] for row in data]\n",
    "        gamma_rate += max(set(col), key=col.count)\n",
    "        epsilon_rate += min(set(col), key=col.count)\n",
    "        \n",
    "    power_consumption = int(gamma_rate, 2) * int(epsilon_rate, 2)\n",
    "    return power_consumption\n"
   ]
  },
  {
   "cell_type": "code",
   "execution_count": 10,
   "metadata": {},
   "outputs": [],
   "source": [
    "def calculate_component_rating(data, use_most_common, bit):\n",
    "    for n in range(len(data[0])): # not the most efficient but works, could use numpy\n",
    "        gamma_rate = \"\"\n",
    "        epsilon_rate = \"\"\n",
    "        column = [row[n] for row in data]\n",
    "        gamma_rate += max(set(column), key=column.count)\n",
    "        epsilon_rate += min(set(column), key=column.count)\n",
    "        match = gamma_rate if use_most_common else epsilon_rate\n",
    "        \n",
    "        if gamma_rate != epsilon_rate:\n",
    "            data = [x for x in data if x[n] == match]\n",
    "        else:\n",
    "            data = [x for x in data if x[n] == bit]\n",
    "        \n",
    "        if len(data) == 1:\n",
    "            return \"\".join(data)"
   ]
  },
  {
   "cell_type": "code",
   "execution_count": 8,
   "metadata": {},
   "outputs": [
    {
     "name": "stdout",
     "output_type": "stream",
     "text": [
      "852500\n",
      "Part a already solved with same answer: 852500\n"
     ]
    }
   ],
   "source": [
    "# part a\n",
    "answer = calculate_power_consumption(lines)\n",
    "print(answer)\n",
    "submit_answer(answer, part_a, day, year)"
   ]
  },
  {
   "cell_type": "code",
   "execution_count": 11,
   "metadata": {},
   "outputs": [
    {
     "name": "stdout",
     "output_type": "stream",
     "text": [
      "Part b already solved with same answer: 1007985\n"
     ]
    }
   ],
   "source": [
    "# part b\n",
    "oxygen_generator = calculate_component_rating(lines, True, \"1\")\n",
    "co2_scrubber = calculate_component_rating(lines, False, \"0\")\n",
    "answer = int(oxygen_generator, 2) * int(co2_scrubber, 2) # life support rating\n",
    "submit_answer(answer, part_b, day, year)"
   ]
  }
 ],
 "metadata": {
  "interpreter": {
   "hash": "a065e06145304b9d57c779f273fd7b7001890dbf80757d56c4ce00fe5b76c373"
  },
  "kernelspec": {
   "display_name": "Python 3.10.0 64-bit ('aoc2021': conda)",
   "language": "python",
   "name": "python3"
  },
  "language_info": {
   "codemirror_mode": {
    "name": "ipython",
    "version": 3
   },
   "file_extension": ".py",
   "mimetype": "text/x-python",
   "name": "python",
   "nbconvert_exporter": "python",
   "pygments_lexer": "ipython3",
   "version": "3.9.7"
  },
  "orig_nbformat": 4
 },
 "nbformat": 4,
 "nbformat_minor": 2
}
