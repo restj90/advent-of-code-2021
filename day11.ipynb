{
 "cells": [
  {
   "cell_type": "code",
   "execution_count": 120,
   "metadata": {},
   "outputs": [],
   "source": [
    "from utils import save_data_file, read_lines, submit_answer\n",
    "\n",
    "# boilerplate get data\n",
    "day, year = 11, 2021\n",
    "part_a, part_b = \"a\", \"b\"\n",
    "file = save_data_file(day, year)\n",
    "data = read_lines(file)"
   ]
  },
  {
   "cell_type": "code",
   "execution_count": 121,
   "metadata": {},
   "outputs": [],
   "source": [
    "# solution imports\n",
    "import numpy as np\n",
    "data = np.array([list(map(int, line)) for line in data], dtype=\"int\")\n",
    "grid = np.array(data, dtype=\"int\")\n",
    "mask = np.zeros_like(grid, dtype=\"bool\")"
   ]
  },
  {
   "cell_type": "code",
   "execution_count": 122,
   "metadata": {},
   "outputs": [],
   "source": [
    "def get_total_flashes(grid, mask, steps):\n",
    "    max_y, max_x = grid.shape    \n",
    "    flashed = 0   \n",
    "    all_flashed = []   \n",
    "    step = 0\n",
    "    \n",
    "    while (step < steps) or (not all_flashed):\n",
    "        # check if all octopuses flashed\n",
    "        if (np.all(grid == 0)): \n",
    "            all_flashed += [step]\n",
    "\n",
    "        mask[:] = False\n",
    "        grid += 1\n",
    "        flash = (grid > 9)\n",
    "\n",
    "        # process flashes\n",
    "        while np.any(flash):\n",
    "            row, column = np.where(flash)\n",
    "            mask |= flash\n",
    "            \n",
    "            for y, x in zip(row, column):\n",
    "                y1, x1 = max(y-1, 0), max(x-1, 0)\n",
    "                y2, x2 = min(y+2, max_y), min(x+2, max_x)\n",
    "                grid[y1:y2, x1:x2] += 1\n",
    "                if (step < steps): \n",
    "                    flashed += 1\n",
    "            \n",
    "            # check for neighbour flashes\n",
    "            flash = (grid > 9) & (~mask)\n",
    "        \n",
    "        # set octopus which flashed\n",
    "        grid[mask] = 0\n",
    "        step += 1\n",
    "\n",
    "    return flashed, all_flashed\n",
    "    "
   ]
  },
  {
   "cell_type": "code",
   "execution_count": 123,
   "metadata": {},
   "outputs": [
    {
     "name": "stdout",
     "output_type": "stream",
     "text": [
      "1741\n"
     ]
    }
   ],
   "source": [
    "# part a\n",
    "answer = get_total_flashes(grid, mask, 100)\n",
    "print(answer[0])\n",
    "#submit_answer(answer[0], part_a, day, year)"
   ]
  },
  {
   "cell_type": "code",
   "execution_count": 124,
   "metadata": {},
   "outputs": [
    {
     "name": "stdout",
     "output_type": "stream",
     "text": [
      "440\n"
     ]
    }
   ],
   "source": [
    "# part b\n",
    "print(answer[1][0])\n",
    "#submit_answer(answer[1], part_b, day, year)"
   ]
  }
 ],
 "metadata": {
  "interpreter": {
   "hash": "a065e06145304b9d57c779f273fd7b7001890dbf80757d56c4ce00fe5b76c373"
  },
  "kernelspec": {
   "display_name": "Python 3.10.0 64-bit ('aoc2021': conda)",
   "language": "python",
   "name": "python3"
  },
  "language_info": {
   "codemirror_mode": {
    "name": "ipython",
    "version": 3
   },
   "file_extension": ".py",
   "mimetype": "text/x-python",
   "name": "python",
   "nbconvert_exporter": "python",
   "pygments_lexer": "ipython3",
   "version": "3.9.7"
  },
  "orig_nbformat": 4
 },
 "nbformat": 4,
 "nbformat_minor": 2
}
