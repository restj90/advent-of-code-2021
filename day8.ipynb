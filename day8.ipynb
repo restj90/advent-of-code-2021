{
 "cells": [
  {
   "cell_type": "code",
   "execution_count": 12,
   "metadata": {},
   "outputs": [],
   "source": [
    "from utils import save_data_file, read_lines, submit_answer\n",
    "\n",
    "# boilerplate get data\n",
    "day, year = 8, 2021\n",
    "part_a, part_b = \"a\", \"b\"\n",
    "file = save_data_file(day, year)\n",
    "data = read_lines(file)"
   ]
  },
  {
   "cell_type": "code",
   "execution_count": 13,
   "metadata": {},
   "outputs": [],
   "source": [
    "def count_digit_occurence(data):\n",
    "    segments = []\n",
    "    outputs = []\n",
    "    count = 0\n",
    "    for line in data:\n",
    "        line = line.split(' | ')\n",
    "        segments.append(line[0].split())\n",
    "        outputs.append(line[1].split())\n",
    "        count += sum([(2 <= len(i) <= 4) or len(i) == 7 for i in outputs[-1]])\n",
    "    return count, segments, outputs\n",
    "    "
   ]
  },
  {
   "cell_type": "code",
   "execution_count": 14,
   "metadata": {},
   "outputs": [],
   "source": [
    "\n",
    "def decode_output(data):\n",
    "    count = 0\n",
    "    digit_occurence = count_digit_occurence(data)\n",
    "    segments = digit_occurence[1]   \n",
    "    outputs = digit_occurence[2]\n",
    "    for segment, output in zip(segments, outputs):\n",
    "        mapping = ['' for i in range(10)]\n",
    "        segment = sorted(segment, key=len)\n",
    "        for i in segment:\n",
    "            if   len(i) == 2: mapping[1] = i\n",
    "            elif len(i) == 3: mapping[7] = i\n",
    "            elif len(i) == 4: mapping[4] = i\n",
    "            elif len(i) == 5:\n",
    "                if all([c in i for c in mapping[1]]): mapping[3] = i\n",
    "                elif sum([c in i for c in mapping[4]]) == 3: mapping[5] = i\n",
    "                else: mapping[2] = i\n",
    "            elif len(i) == 6:\n",
    "                if all([c in i for c in mapping[4]]): mapping[9] = i\n",
    "                elif all([c in i for c in mapping[7]]): mapping[0] = i\n",
    "                else: mapping[6] = i\n",
    "            else: mapping[8] = i\n",
    "\n",
    "        output_number = 0\n",
    "        for j, n in enumerate(output[::-1]):\n",
    "            for i in range(10):\n",
    "                if all([c in n for c in mapping[i]]) and len(mapping[i]) == len(n):\n",
    "                    output_number += i * 10 ** j\n",
    "                    break\n",
    "\n",
    "        count += int(output_number)\n",
    "    return count"
   ]
  },
  {
   "cell_type": "code",
   "execution_count": 15,
   "metadata": {},
   "outputs": [
    {
     "name": "stdout",
     "output_type": "stream",
     "text": [
      "534\n"
     ]
    }
   ],
   "source": [
    "# part a\n",
    "answer = count_digit_occurence(data)[0]\n",
    "print(answer)\n",
    "#submit_answer(answer, part_a, day, year)"
   ]
  },
  {
   "cell_type": "code",
   "execution_count": 16,
   "metadata": {},
   "outputs": [
    {
     "name": "stdout",
     "output_type": "stream",
     "text": [
      "1070188\n"
     ]
    }
   ],
   "source": [
    "# part b\n",
    "answer = decode_output(data)\n",
    "print(answer)\n",
    "#submit_answer(answer, part_b, day, year)"
   ]
  }
 ],
 "metadata": {
  "interpreter": {
   "hash": "a065e06145304b9d57c779f273fd7b7001890dbf80757d56c4ce00fe5b76c373"
  },
  "kernelspec": {
   "display_name": "Python 3.10.0 64-bit ('aoc2021': conda)",
   "language": "python",
   "name": "python3"
  },
  "language_info": {
   "codemirror_mode": {
    "name": "ipython",
    "version": 3
   },
   "file_extension": ".py",
   "mimetype": "text/x-python",
   "name": "python",
   "nbconvert_exporter": "python",
   "pygments_lexer": "ipython3",
   "version": "3.9.7"
  },
  "orig_nbformat": 4
 },
 "nbformat": 4,
 "nbformat_minor": 2
}
