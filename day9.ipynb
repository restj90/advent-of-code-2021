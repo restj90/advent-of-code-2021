{
 "cells": [
  {
   "cell_type": "code",
   "execution_count": 104,
   "metadata": {},
   "outputs": [],
   "source": [
    "from utils import save_data_file, read_lines, submit_answer\n",
    "\n",
    "# boilerplate get data\n",
    "day, year = 9, 2021\n",
    "part_a, part_b = \"a\", \"b\"\n",
    "file = save_data_file(day, year)\n",
    "data = read_lines(file)"
   ]
  },
  {
   "cell_type": "code",
   "execution_count": 105,
   "metadata": {},
   "outputs": [],
   "source": [
    "# solution imports\n",
    "import numpy as np\n",
    "from scipy.ndimage import label\n",
    "\n",
    "np_integers = np.array([[int(i) for i in line.strip()] for line in data], dtype=int)"
   ]
  },
  {
   "cell_type": "code",
   "execution_count": 106,
   "metadata": {},
   "outputs": [],
   "source": [
    "def find_lowest_points(data):\n",
    "    pad_value = 10\n",
    "    shift_up = np.pad(data[1:,:], [(0,1), (0,0)], constant_values=pad_value)\n",
    "    shift_down = np.pad(data[:-1,:], [(1,0), (0,0)], constant_values=pad_value)\n",
    "    shift_left = np.pad(data[:,1:], [(0,0), (0,1)], constant_values=pad_value)\n",
    "    shift_right = np.pad(data[:,:-1], [(0,0), (1,0)], constant_values=pad_value)\n",
    "\n",
    "    # values are smaller than neighbors using bool logic\n",
    "    is_lowest = (data < shift_up) & (data < shift_down) & (data < shift_left) & (data < shift_right)\n",
    "    return data[is_lowest]"
   ]
  },
  {
   "cell_type": "code",
   "execution_count": 107,
   "metadata": {},
   "outputs": [
    {
     "name": "stdout",
     "output_type": "stream",
     "text": [
      "524\n"
     ]
    }
   ],
   "source": [
    "# part a\n",
    "lowest_points = find_lowest_points(np_integers)\n",
    "answer = np.sum(lowest_points + 1)\n",
    "print(answer)\n",
    "#submit_answer(answer, part_a, day, year)"
   ]
  },
  {
   "cell_type": "code",
   "execution_count": 108,
   "metadata": {},
   "outputs": [
    {
     "name": "stdout",
     "output_type": "stream",
     "text": [
      "1235430\n"
     ]
    }
   ],
   "source": [
    "# part b\n",
    "# label contiguous basin areas\n",
    "labeled_basins, basin_count = label(np_integers != 9)\n",
    "# count non-zero labels to find basin areas\n",
    "basin_areas = np.bincount(labeled_basins[labeled_basins != 0])\n",
    "# answer is the product of the top three\n",
    "answer = np.product(np.sort(basin_areas)[-3:])\n",
    "print(answer)\n",
    "#submit_answer(answer, part_b, day, year)"
   ]
  }
 ],
 "metadata": {
  "interpreter": {
   "hash": "a065e06145304b9d57c779f273fd7b7001890dbf80757d56c4ce00fe5b76c373"
  },
  "kernelspec": {
   "display_name": "Python 3.10.0 64-bit ('aoc2021': conda)",
   "language": "python",
   "name": "python3"
  },
  "language_info": {
   "codemirror_mode": {
    "name": "ipython",
    "version": 3
   },
   "file_extension": ".py",
   "mimetype": "text/x-python",
   "name": "python",
   "nbconvert_exporter": "python",
   "pygments_lexer": "ipython3",
   "version": "3.9.7"
  },
  "orig_nbformat": 4
 },
 "nbformat": 4,
 "nbformat_minor": 2
}
