{
 "cells": [
  {
   "cell_type": "code",
   "execution_count": 1,
   "metadata": {},
   "outputs": [],
   "source": [
    "from utils import save_data_file, read_lines, submit_answer\n",
    "\n",
    "# boilerplate get data\n",
    "day, year = 14, 2021\n",
    "part_a, part_b = \"a\", \"b\"\n",
    "file = save_data_file(day, year)\n",
    "data = read_lines(file)"
   ]
  },
  {
   "cell_type": "code",
   "execution_count": 2,
   "metadata": {},
   "outputs": [],
   "source": [
    "# solution imports\n",
    "from collections import Counter"
   ]
  },
  {
   "cell_type": "code",
   "execution_count": 3,
   "metadata": {},
   "outputs": [],
   "source": [
    "def parse(data, splitter, index):\n",
    "    return dict(line.rstrip().split(splitter) for line in data[index:])"
   ]
  },
  {
   "cell_type": "code",
   "execution_count": 4,
   "metadata": {},
   "outputs": [],
   "source": [
    "def construct(polymer, rules, steps):\n",
    "    elements = Counter(polymer)\n",
    "    pairs = Counter(polymer[i:i + 2] for i in range(len(polymer) - 1))\n",
    "\n",
    "    for _ in range(steps):\n",
    "        counter = Counter()\n",
    "        for pair, adjacent in pairs.items():\n",
    "            if pair in rules:\n",
    "                x, y = pair\n",
    "                z = rules[pair]\n",
    "                counter[x+z] += adjacent\n",
    "                counter[z+y] += adjacent\n",
    "                elements[z]  += adjacent\n",
    "            else:\n",
    "                counter[pair] = adjacent\n",
    "        pairs = counter\n",
    "    # find the most and least common elements in the result and subtract\n",
    "    return max(elements.values()) - min(elements.values())\n"
   ]
  },
  {
   "cell_type": "code",
   "execution_count": 5,
   "metadata": {},
   "outputs": [],
   "source": [
    "template = data[0].rstrip()\n",
    "rules = parse(data,' -> ',2)"
   ]
  },
  {
   "cell_type": "code",
   "execution_count": 6,
   "metadata": {},
   "outputs": [
    {
     "name": "stdout",
     "output_type": "stream",
     "text": [
      "2587\n"
     ]
    }
   ],
   "source": [
    "# part a\n",
    "answer = construct(template, rules, 10)\n",
    "print(answer)\n",
    "#submit_answer(answer, part_a, day, year)"
   ]
  },
  {
   "cell_type": "code",
   "execution_count": 7,
   "metadata": {},
   "outputs": [
    {
     "name": "stdout",
     "output_type": "stream",
     "text": [
      "3318837563123\n"
     ]
    }
   ],
   "source": [
    "# part b\n",
    "answer = construct(template, rules, 40)\n",
    "print(answer)\n",
    "#submit_answer(answer, part_b, day, year)"
   ]
  }
 ],
 "metadata": {
  "interpreter": {
   "hash": "a065e06145304b9d57c779f273fd7b7001890dbf80757d56c4ce00fe5b76c373"
  },
  "kernelspec": {
   "display_name": "Python 3.10.0 64-bit ('aoc2021': conda)",
   "language": "python",
   "name": "python3"
  },
  "language_info": {
   "codemirror_mode": {
    "name": "ipython",
    "version": 3
   },
   "file_extension": ".py",
   "mimetype": "text/x-python",
   "name": "python",
   "nbconvert_exporter": "python",
   "pygments_lexer": "ipython3",
   "version": "3.9.7"
  },
  "orig_nbformat": 4
 },
 "nbformat": 4,
 "nbformat_minor": 2
}
