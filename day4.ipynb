{
 "cells": [
  {
   "cell_type": "code",
   "execution_count": 55,
   "metadata": {},
   "outputs": [],
   "source": [
    "import numpy as np\n",
    "from utils import save_data_file\n",
    "from utils import read_lines, submit_answer\n",
    "\n",
    "day = 4\n",
    "year = 2021\n",
    "part_a = \"a\"\n",
    "part_b = \"b\"\n",
    "file = save_data_file(day, year)\n",
    "data = read_lines(file)"
   ]
  },
  {
   "cell_type": "code",
   "execution_count": 56,
   "metadata": {},
   "outputs": [],
   "source": [
    "def get_bingo_numbers(data):\n",
    "    bingo_numbers = [int(n) for n in data[0].split(',')]\n",
    "    return bingo_numbers"
   ]
  },
  {
   "cell_type": "code",
   "execution_count": 57,
   "metadata": {},
   "outputs": [],
   "source": [
    "def get_bingo_boards(data):\n",
    "    boards = []\n",
    "    board = []\n",
    "    puzzle_input = [line for line in data[2:]]\n",
    "    for line in puzzle_input:\n",
    "        if not line:\n",
    "            boards.append(board)\n",
    "            board = []\n",
    "        else:\n",
    "            board.append([int(n) for n in line.split()])\n",
    "    boards.append(board) # last one\n",
    "    return boards"
   ]
  },
  {
   "cell_type": "code",
   "execution_count": 85,
   "metadata": {},
   "outputs": [],
   "source": [
    "def check_winner(board):\n",
    "    if (np.sum(board) == 0):\n",
    "        return False\n",
    "    for i in range(5):\n",
    "        sum = np.sum(board[:,i])\n",
    "        if (not sum):\n",
    "            return True\n",
    "    for i in range(5):\n",
    "        sum = np.sum(board[i,:])\n",
    "        if (not sum):\n",
    "            return True\n",
    "    return False"
   ]
  },
  {
   "cell_type": "code",
   "execution_count": 79,
   "metadata": {},
   "outputs": [],
   "source": [
    "def get_winning_board_score(data):\n",
    "    bingo_numbers = get_bingo_numbers(data)\n",
    "    bingo_boards = get_bingo_boards(data)\n",
    "    np_boards = np.array(bingo_boards)\n",
    "    total_bingo_numbers = len(bingo_numbers)\n",
    "    for i in range(total_bingo_numbers):\n",
    "        for j in range(np_boards.shape[0]):\n",
    "            if (bingo_numbers[i] in np_boards[j]):\n",
    "                coordinates = np.where(np_boards[j] == bingo_numbers[i])\n",
    "                np_boards[j, coordinates[0], coordinates[1]] = 0\n",
    "            if(check_winner(np_boards[j])): \n",
    "                return np.sum(np_boards[j]) * bingo_numbers[i]"
   ]
  },
  {
   "cell_type": "code",
   "execution_count": 91,
   "metadata": {},
   "outputs": [],
   "source": [
    "def get_last_winning_board_score(data):\n",
    "    bingo_numbers = get_bingo_numbers(data)\n",
    "    bingo_boards = get_bingo_boards(data)\n",
    "    np_boards = np.array(bingo_boards)\n",
    "    total_bingo_numbers = len(bingo_numbers)\n",
    "    total_bingo_boards = np_boards.shape[0]\n",
    "    winning_board_list = []\n",
    "    for i in range(total_bingo_numbers):\n",
    "        for j in range(np_boards.shape[0]):\n",
    "            if (bingo_numbers[i] in np_boards[j]):\n",
    "                coordinates = np.where(np_boards[j] == bingo_numbers[i])\n",
    "                np_boards[j, coordinates[0], coordinates[1]] = 0\n",
    "            if(check_winner(np_boards[j])):\n",
    "                winning_board_list.append(np_boards[j])\n",
    "                last_winner = np_boards[j]\n",
    "                np_boards[j] = np.zeros(np_boards[j].shape)\n",
    "                if (len(winning_board_list) ==  total_bingo_boards) :\n",
    "                    return np.sum(last_winner) * bingo_numbers[i]\n",
    "                print(last_winner)"
   ]
  },
  {
   "cell_type": "code",
   "execution_count": 65,
   "metadata": {},
   "outputs": [
    {
     "name": "stdout",
     "output_type": "stream",
     "text": [
      "16716\n",
      "\u001b[32mThat's the right answer!  You are one gold star closer to finding the sleigh keys. [Continue to Part Two]\u001b[0m\n"
     ]
    },
    {
     "data": {
      "text/plain": [
       "<Response [200]>"
      ]
     },
     "execution_count": 65,
     "metadata": {},
     "output_type": "execute_result"
    }
   ],
   "source": [
    "# part a\n",
    "answer = get_winning_board_score(data)\n",
    "print(answer)\n",
    "#submit_answer(answer, part_a, day, year)"
   ]
  },
  {
   "cell_type": "code",
   "execution_count": 92,
   "metadata": {},
   "outputs": [
    {
     "ename": "UnboundLocalError",
     "evalue": "local variable 'last_winner' referenced before assignment",
     "output_type": "error",
     "traceback": [
      "\u001b[0;31m---------------------------------------------------------------------------\u001b[0m",
      "\u001b[0;31mUnboundLocalError\u001b[0m                         Traceback (most recent call last)",
      "\u001b[0;32m/tmp/ipykernel_28582/1985523474.py\u001b[0m in \u001b[0;36m<module>\u001b[0;34m\u001b[0m\n\u001b[0;32m----> 1\u001b[0;31m \u001b[0manswer\u001b[0m \u001b[0;34m=\u001b[0m \u001b[0mget_last_winning_board_score\u001b[0m\u001b[0;34m(\u001b[0m\u001b[0mdata\u001b[0m\u001b[0;34m)\u001b[0m\u001b[0;34m\u001b[0m\u001b[0;34m\u001b[0m\u001b[0m\n\u001b[0m",
      "\u001b[0;32m/tmp/ipykernel_28582/1598962909.py\u001b[0m in \u001b[0;36mget_last_winning_board_score\u001b[0;34m(data)\u001b[0m\n\u001b[1;32m     17\u001b[0m                 \u001b[0;32mif\u001b[0m \u001b[0;34m(\u001b[0m\u001b[0mlen\u001b[0m\u001b[0;34m(\u001b[0m\u001b[0mwinning_board_list\u001b[0m\u001b[0;34m)\u001b[0m \u001b[0;34m==\u001b[0m  \u001b[0mtotal_bingo_boards\u001b[0m\u001b[0;34m)\u001b[0m \u001b[0;34m:\u001b[0m\u001b[0;34m\u001b[0m\u001b[0;34m\u001b[0m\u001b[0m\n\u001b[1;32m     18\u001b[0m                     \u001b[0;32mreturn\u001b[0m \u001b[0mnp\u001b[0m\u001b[0;34m.\u001b[0m\u001b[0msum\u001b[0m\u001b[0;34m(\u001b[0m\u001b[0mlast_winner\u001b[0m\u001b[0;34m)\u001b[0m \u001b[0;34m*\u001b[0m \u001b[0mbingo_numbers\u001b[0m\u001b[0;34m[\u001b[0m\u001b[0mi\u001b[0m\u001b[0;34m]\u001b[0m\u001b[0;34m\u001b[0m\u001b[0;34m\u001b[0m\u001b[0m\n\u001b[0;32m---> 19\u001b[0;31m         \u001b[0mprint\u001b[0m\u001b[0;34m(\u001b[0m\u001b[0mlast_winner\u001b[0m\u001b[0;34m)\u001b[0m\u001b[0;34m\u001b[0m\u001b[0;34m\u001b[0m\u001b[0m\n\u001b[0m",
      "\u001b[0;31mUnboundLocalError\u001b[0m: local variable 'last_winner' referenced before assignment"
     ]
    }
   ],
   "source": [
    "answer = get_last_winning_board_score(data)"
   ]
  },
  {
   "cell_type": "code",
   "execution_count": 87,
   "metadata": {},
   "outputs": [
    {
     "name": "stdout",
     "output_type": "stream",
     "text": [
      "0\n"
     ]
    }
   ],
   "source": [
    "# part b\n",
    "answer = get_last_winning_board_score(data)\n",
    "print(answer)\n",
    "#submit_answer(answer, part_b, day, year)"
   ]
  }
 ],
 "metadata": {
  "interpreter": {
   "hash": "a065e06145304b9d57c779f273fd7b7001890dbf80757d56c4ce00fe5b76c373"
  },
  "kernelspec": {
   "display_name": "Python 3.10.0 64-bit ('aoc2021': conda)",
   "language": "python",
   "name": "python3"
  },
  "language_info": {
   "codemirror_mode": {
    "name": "ipython",
    "version": 3
   },
   "file_extension": ".py",
   "mimetype": "text/x-python",
   "name": "python",
   "nbconvert_exporter": "python",
   "pygments_lexer": "ipython3",
   "version": "3.9.7"
  },
  "orig_nbformat": 4
 },
 "nbformat": 4,
 "nbformat_minor": 2
}
