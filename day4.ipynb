{
 "cells": [
  {
   "cell_type": "code",
   "execution_count": null,
   "metadata": {},
   "outputs": [],
   "source": [
    "from utils import save_data_file, read_lines, submit_answer\n",
    "\n",
    "# boilerplate get data\n",
    "day, year = 4, 2021\n",
    "part_a, part_b = \"a\", \"b\"\n",
    "file = save_data_file(day, year)\n",
    "data = read_lines(file)"
   ]
  },
  {
   "cell_type": "code",
   "execution_count": null,
   "metadata": {},
   "outputs": [],
   "source": [
    "# solution imports\n",
    "import numpy as np"
   ]
  },
  {
   "cell_type": "code",
   "execution_count": null,
   "metadata": {},
   "outputs": [],
   "source": [
    "def get_bingo_numbers(data):\n",
    "    bingo_numbers = [int(n) for n in data[0].split(',')]\n",
    "    return bingo_numbers"
   ]
  },
  {
   "cell_type": "code",
   "execution_count": null,
   "metadata": {},
   "outputs": [],
   "source": [
    "def get_bingo_boards(data):\n",
    "    boards = []\n",
    "    board = []\n",
    "    puzzle_input = [line for line in data[2:]]\n",
    "    for line in puzzle_input:\n",
    "        if not line:\n",
    "            boards.append(board)\n",
    "            board = []\n",
    "        else:\n",
    "            board.append([int(n) for n in line.split()])\n",
    "    boards.append(board) # last one\n",
    "    return boards"
   ]
  },
  {
   "cell_type": "code",
   "execution_count": null,
   "metadata": {},
   "outputs": [],
   "source": [
    "def check_winner(board):\n",
    "    for i in range(5):\n",
    "        sum = np.sum(board[:,i])\n",
    "        if (not sum):\n",
    "            return True\n",
    "    for i in range(5):\n",
    "        sum = np.sum(board[i,:])\n",
    "        if (not sum):\n",
    "            return True\n",
    "    return False"
   ]
  },
  {
   "cell_type": "code",
   "execution_count": null,
   "metadata": {},
   "outputs": [],
   "source": [
    "def inList(array, list):\n",
    "    for element in list:\n",
    "        if np.array_equal(element, array):\n",
    "            return True\n",
    "    return False"
   ]
  },
  {
   "cell_type": "code",
   "execution_count": null,
   "metadata": {},
   "outputs": [],
   "source": [
    "def get_winning_board_score(data, isSquidWin):\n",
    "    bingo_numbers = get_bingo_numbers(data)\n",
    "    bingo_boards = get_bingo_boards(data)\n",
    "    np_boards = np.array(bingo_boards)\n",
    "    total_bingo_numbers = len(bingo_numbers)\n",
    "    total_bingo_boards = np_boards.shape[0]\n",
    "    winning_board_list = []\n",
    "    \n",
    "    for i in range(total_bingo_numbers):\n",
    "        for j in range(np_boards.shape[0]):\n",
    "            if (not isSquidWin):\n",
    "                if (bingo_numbers[i] in np_boards[j]):\n",
    "                    coordinates = np.where(np_boards[j] == bingo_numbers[i])\n",
    "                    np_boards[j, coordinates[0], coordinates[1]] = 0\n",
    "                if(check_winner(np_boards[j])): \n",
    "                    return np.sum(np_boards[j]) * bingo_numbers[i]\n",
    "            else:\n",
    "                if (bingo_numbers[i] in np_boards[j]) and (not inList(np_boards[j], winning_board_list)):\n",
    "                    coordinates = np.where(np_boards[j] == bingo_numbers[i])\n",
    "                    np_boards[j, coordinates[0], coordinates[1]] = 0\n",
    "                if(check_winner(np_boards[j]) and not inList(np_boards[j], winning_board_list)):\n",
    "                    winning_board_list.append(np_boards[j])\n",
    "                    if (len(winning_board_list) == total_bingo_boards):\n",
    "                        return np.sum(winning_board_list[-1]) * bingo_numbers[i]"
   ]
  },
  {
   "cell_type": "code",
   "execution_count": null,
   "metadata": {},
   "outputs": [],
   "source": [
    "# part a\n",
    "answer = get_winning_board_score(data, False)\n",
    "print(answer)\n",
    "#submit_answer(answer, part_a, day, year)"
   ]
  },
  {
   "cell_type": "code",
   "execution_count": null,
   "metadata": {},
   "outputs": [],
   "source": [
    "# part b\n",
    "answer = get_winning_board_score(data, True)\n",
    "print(answer)\n",
    "#submit_answer(answer, part_b, day, year)"
   ]
  }
 ],
 "metadata": {
  "interpreter": {
   "hash": "a065e06145304b9d57c779f273fd7b7001890dbf80757d56c4ce00fe5b76c373"
  },
  "kernelspec": {
   "display_name": "Python 3.10.0 64-bit ('aoc2021': conda)",
   "language": "python",
   "name": "python3"
  },
  "language_info": {
   "codemirror_mode": {
    "name": "ipython",
    "version": 3
   },
   "file_extension": ".py",
   "mimetype": "text/x-python",
   "name": "python",
   "nbconvert_exporter": "python",
   "pygments_lexer": "ipython3",
   "version": "3.9.7"
  },
  "orig_nbformat": 4
 },
 "nbformat": 4,
 "nbformat_minor": 2
}
