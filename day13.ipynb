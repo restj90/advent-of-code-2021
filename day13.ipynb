{
 "cells": [
  {
   "cell_type": "code",
   "execution_count": 1,
   "metadata": {},
   "outputs": [],
   "source": [
    "from utils import save_data_file, read_lines, submit_answer\n",
    "\n",
    "# boilerplate get data\n",
    "day, year = 13, 2021\n",
    "part_a, part_b = \"a\", \"b\"\n",
    "file = save_data_file(day, year)\n",
    "data = read_lines(file)"
   ]
  },
  {
   "cell_type": "code",
   "execution_count": 2,
   "metadata": {},
   "outputs": [],
   "source": [
    "coordinates = set()\n",
    "folds = []\n",
    "for line in data: # data is split into 2 categories\n",
    "    if ',' in line:\n",
    "        x, y = map(int, line.split(','))\n",
    "        coordinates.add((x, y))\n",
    "    if line.startswith('fold'):\n",
    "        direction, number = line.split()[-1].split('=')\n",
    "        folds.append((direction, int(number)))"
   ]
  },
  {
   "cell_type": "code",
   "execution_count": 3,
   "metadata": {},
   "outputs": [],
   "source": [
    "def fold(coordinates, folds):\n",
    "    for direction, number in folds:\n",
    "        folded = set()\n",
    "        for x, y in coordinates:\n",
    "            if direction == 'x':\n",
    "                folded.add((x if x < number else 2 * number - x, y))\n",
    "            else:\n",
    "                folded.add((x, y if y < number else 2 * number - y))\n",
    "        coordinates = folded\n",
    "    return coordinates"
   ]
  },
  {
   "cell_type": "code",
   "execution_count": 4,
   "metadata": {},
   "outputs": [],
   "source": [
    "def get_visible_dots(coordinates, folds):\n",
    "    folded = fold(coordinates, folds[:1])\n",
    "    return len(folded)"
   ]
  },
  {
   "cell_type": "code",
   "execution_count": 5,
   "metadata": {},
   "outputs": [],
   "source": [
    "def display_code(coordinates, folds):\n",
    "    folded = fold(coordinates, folds)\n",
    "    max_x = max(x for x, _ in folded)\n",
    "    max_y = max(y for _, y in folded)\n",
    "    decoded = [[' '] * (max_x + 1) for _ in range(max_y + 1)]\n",
    "    \n",
    "    for x, y in folded:\n",
    "        decoded[y][x] = '|'\n",
    "\n",
    "    return '\\n'.join(''.join(row) for row in decoded)"
   ]
  },
  {
   "cell_type": "code",
   "execution_count": 6,
   "metadata": {},
   "outputs": [
    {
     "name": "stdout",
     "output_type": "stream",
     "text": [
      "759\n"
     ]
    }
   ],
   "source": [
    "# part a\n",
    "answer = get_visible_dots(coordinates, folds)\n",
    "print(answer)\n",
    "#submit_answer(answer, part_a, day, year)"
   ]
  },
  {
   "cell_type": "code",
   "execution_count": 7,
   "metadata": {},
   "outputs": [
    {
     "name": "stdout",
     "output_type": "stream",
     "text": [
      "\n",
      "|  | ||||  ||  |||  |||| |  | |||  ||| \n",
      "|  | |    |  | |  |    | | |  |  | |  |\n",
      "|||| |||  |    |  |   |  ||   |  | |  |\n",
      "|  | |    |    |||   |   | |  |||  ||| \n",
      "|  | |    |  | | |  |    | |  |    | | \n",
      "|  | ||||  ||  |  | |||| |  | |    |  |\n"
     ]
    }
   ],
   "source": [
    "# part b\n",
    "code = display_code(coordinates, folds)\n",
    "print(f'\\n{code}')"
   ]
  }
 ],
 "metadata": {
  "interpreter": {
   "hash": "a065e06145304b9d57c779f273fd7b7001890dbf80757d56c4ce00fe5b76c373"
  },
  "kernelspec": {
   "display_name": "Python 3.10.0 64-bit ('aoc2021': conda)",
   "language": "python",
   "name": "python3"
  },
  "language_info": {
   "codemirror_mode": {
    "name": "ipython",
    "version": 3
   },
   "file_extension": ".py",
   "mimetype": "text/x-python",
   "name": "python",
   "nbconvert_exporter": "python",
   "pygments_lexer": "ipython3",
   "version": "3.9.7"
  },
  "orig_nbformat": 4
 },
 "nbformat": 4,
 "nbformat_minor": 2
}
