{
 "cells": [
  {
   "cell_type": "markdown",
   "metadata": {},
   "source": []
  },
  {
   "cell_type": "code",
   "execution_count": 18,
   "metadata": {},
   "outputs": [],
   "source": [
    "# save data file so we can have it in repo and show answer vs puzzle\n",
    "# delete contents of /inputs directory in order to get answers for your own session\n",
    "from utils import save_data_file\n",
    "from utils import read_integers, submit_answer\n",
    "\n",
    "day = 1\n",
    "year = 2021\n",
    "part_a = \"a\"\n",
    "part_b = \"b\"\n",
    "file = save_data_file(day, year)\n",
    "depths = read_integers(file)"
   ]
  },
  {
   "cell_type": "code",
   "execution_count": 19,
   "metadata": {},
   "outputs": [],
   "source": [
    "# solution using window-size measurements of previous sum(s)\n",
    "# note - not very efficient for large files\n",
    "# in this case, depths won't be indexable so can probably use some pairwise function there\n",
    "def count_sums_of_measurement_windows(depths, window_size):\n",
    "    count = 0\n",
    "    for i in range(window_size, len(depths)):\n",
    "        if depths[i - window_size] < depths[i]:\n",
    "            count += 1\n",
    "    return count"
   ]
  },
  {
   "cell_type": "code",
   "execution_count": 20,
   "metadata": {},
   "outputs": [
    {
     "name": "stdout",
     "output_type": "stream",
     "text": [
      "1532\n",
      "Part a already solved with same answer: 1532\n"
     ]
    }
   ],
   "source": [
    "# part \"a\"\n",
    "answer = count_sums_of_measurement_windows(depths, 1)\n",
    "\n",
    "print(answer)\n",
    "submit_answer(answer, part_a, day, year)\n"
   ]
  },
  {
   "cell_type": "code",
   "execution_count": 21,
   "metadata": {},
   "outputs": [
    {
     "name": "stdout",
     "output_type": "stream",
     "text": [
      "1571\n",
      "Part b already solved with same answer: 1571\n"
     ]
    }
   ],
   "source": [
    "# part \"b\"\n",
    "answer = count_sums_of_measurement_windows(depths, 3)\n",
    "\n",
    "print(answer)\n",
    "submit_answer(answer, part_b, day, year)   \n"
   ]
  }
 ],
 "metadata": {
  "interpreter": {
   "hash": "a065e06145304b9d57c779f273fd7b7001890dbf80757d56c4ce00fe5b76c373"
  },
  "kernelspec": {
   "display_name": "Python 3.10.0 64-bit ('aoc2021': conda)",
   "language": "python",
   "name": "python3"
  },
  "language_info": {
   "codemirror_mode": {
    "name": "ipython",
    "version": 3
   },
   "file_extension": ".py",
   "mimetype": "text/x-python",
   "name": "python",
   "nbconvert_exporter": "python",
   "pygments_lexer": "ipython3",
   "version": "3.9.7"
  },
  "orig_nbformat": 4
 },
 "nbformat": 4,
 "nbformat_minor": 2
}
