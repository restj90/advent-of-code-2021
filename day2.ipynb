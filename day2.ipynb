{
 "cells": [
  {
   "cell_type": "code",
   "execution_count": 1,
   "metadata": {},
   "outputs": [],
   "source": [
    "# save data file so we can have it in repo and show answer vs puzzle\n",
    "# delete contents of /inputs directory in order to get answers for your own session\n",
    "from utils import save_data_file\n",
    "from utils import read_lines, submit_answer\n",
    "\n",
    "day = 2\n",
    "year = 2021\n",
    "part_a = \"a\"\n",
    "part_b = \"b\"\n",
    "file = save_data_file(day, year)\n",
    "commands = read_lines(file)"
   ]
  },
  {
   "cell_type": "code",
   "execution_count": 2,
   "metadata": {},
   "outputs": [],
   "source": [
    "def calculate_position(commands):\n",
    "    position = 0\n",
    "    depth = 0\n",
    "    for line in commands:\n",
    "        command, units = line.split(' ')\n",
    "        units = int(units)\n",
    "        \n",
    "        if command == 'forward':\n",
    "            position += units\n",
    "        else:\n",
    "            depth += units if command == 'down' else -units\n",
    "    \n",
    "    return position * depth\n"
   ]
  },
  {
   "cell_type": "code",
   "execution_count": 6,
   "metadata": {},
   "outputs": [],
   "source": [
    "def calculate_position_with_aim(commands):\n",
    "    position = 0\n",
    "    depth = 0\n",
    "    aim = 0\n",
    "    for line in commands:\n",
    "        command, units = line.split(' ')\n",
    "        units = int(units)\n",
    "        \n",
    "        if command == 'forward':\n",
    "            position += units\n",
    "            depth += aim * units\n",
    "        else:\n",
    "            aim += units if command == 'down' else -units\n",
    "    \n",
    "    return position * depth"
   ]
  },
  {
   "cell_type": "code",
   "execution_count": 3,
   "metadata": {},
   "outputs": [
    {
     "name": "stdout",
     "output_type": "stream",
     "text": [
      "1654760\n",
      "Part a already solved with same answer: 1654760\n"
     ]
    }
   ],
   "source": [
    "# part a\n",
    "answer = calculate_position(commands)\n",
    "print(answer)\n",
    "submit_answer(answer, part_a, day, year)\n"
   ]
  },
  {
   "cell_type": "code",
   "execution_count": 7,
   "metadata": {},
   "outputs": [
    {
     "name": "stdout",
     "output_type": "stream",
     "text": [
      "1956047400\n",
      "Part b already solved with same answer: 1956047400\n"
     ]
    }
   ],
   "source": [
    "# part b\n",
    "answer = calculate_position_with_aim(commands)\n",
    "print(answer)\n",
    "submit_answer(answer, part_b, day, year)"
   ]
  }
 ],
 "metadata": {
  "interpreter": {
   "hash": "a065e06145304b9d57c779f273fd7b7001890dbf80757d56c4ce00fe5b76c373"
  },
  "kernelspec": {
   "display_name": "Python 3.10.0 64-bit ('aoc2021': conda)",
   "language": "python",
   "name": "python3"
  },
  "language_info": {
   "codemirror_mode": {
    "name": "ipython",
    "version": 3
   },
   "file_extension": ".py",
   "mimetype": "text/x-python",
   "name": "python",
   "nbconvert_exporter": "python",
   "pygments_lexer": "ipython3",
   "version": "3.9.7"
  },
  "orig_nbformat": 4
 },
 "nbformat": 4,
 "nbformat_minor": 2
}
